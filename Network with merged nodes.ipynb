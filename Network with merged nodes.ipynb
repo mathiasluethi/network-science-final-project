{
 "cells": [
  {
   "cell_type": "code",
   "execution_count": 4,
   "metadata": {},
   "outputs": [],
   "source": [
    "import geopandas as gpd\n",
    "import fiona\n",
    "import networkx as nx\n",
    "import matplotlib.pyplot as plt\n",
    "import random\n",
    "import matplotlib.animation as animation\n",
    "import numpy as np\n",
    "from math import sin, cos, sqrt, atan2, radians"
   ]
  },
  {
   "cell_type": "code",
   "execution_count": 8,
   "metadata": {},
   "outputs": [
    {
     "data": {
      "text/html": [
       "<div>\n",
       "<style scoped>\n",
       "    .dataframe tbody tr th:only-of-type {\n",
       "        vertical-align: middle;\n",
       "    }\n",
       "\n",
       "    .dataframe tbody tr th {\n",
       "        vertical-align: top;\n",
       "    }\n",
       "\n",
       "    .dataframe thead th {\n",
       "        text-align: right;\n",
       "    }\n",
       "</style>\n",
       "<table border=\"1\" class=\"dataframe\">\n",
       "  <thead>\n",
       "    <tr style=\"text-align: right;\">\n",
       "      <th></th>\n",
       "      <th>xtf_id</th>\n",
       "      <th>Betriebspunkt_Nummer</th>\n",
       "      <th>Betriebspunkt_Name</th>\n",
       "      <th>Betriebspunkt_Abkuerzung</th>\n",
       "      <th>Betriebspunkt_DatenherrAbkuer</th>\n",
       "      <th>BeginnGueltigkeit</th>\n",
       "      <th>EndeGueltigkeit</th>\n",
       "      <th>BearbeitungsDatum</th>\n",
       "      <th>Stand</th>\n",
       "      <th>rUebergeordnet</th>\n",
       "      <th>geometry</th>\n",
       "    </tr>\n",
       "  </thead>\n",
       "  <tbody>\n",
       "    <tr>\n",
       "      <th>0</th>\n",
       "      <td>ch14uvag00092584</td>\n",
       "      <td>8580567</td>\n",
       "      <td>Wabern, Eichholz</td>\n",
       "      <td>None</td>\n",
       "      <td>None</td>\n",
       "      <td>2014-10-01T00:00:00</td>\n",
       "      <td>None</td>\n",
       "      <td>2017-12-12T00:00:00</td>\n",
       "      <td>2017-12-10T00:00:00</td>\n",
       "      <td>None</td>\n",
       "      <td>POINT (7.45160 46.92866)</td>\n",
       "    </tr>\n",
       "    <tr>\n",
       "      <th>1</th>\n",
       "      <td>ch14uvag00092599</td>\n",
       "      <td>8590023</td>\n",
       "      <td>Bern, Sandrain</td>\n",
       "      <td>None</td>\n",
       "      <td>None</td>\n",
       "      <td>2014-10-01T00:00:00</td>\n",
       "      <td>None</td>\n",
       "      <td>2017-12-12T00:00:00</td>\n",
       "      <td>2017-12-10T00:00:00</td>\n",
       "      <td>None</td>\n",
       "      <td>POINT (7.44513 46.93168)</td>\n",
       "    </tr>\n",
       "    <tr>\n",
       "      <th>2</th>\n",
       "      <td>ch14uvag00092576</td>\n",
       "      <td>8588779</td>\n",
       "      <td>Basel, Rheingasse</td>\n",
       "      <td>None</td>\n",
       "      <td>None</td>\n",
       "      <td>2014-10-01T00:00:00</td>\n",
       "      <td>None</td>\n",
       "      <td>2017-12-12T00:00:00</td>\n",
       "      <td>2017-12-10T00:00:00</td>\n",
       "      <td>None</td>\n",
       "      <td>POINT (7.59164 47.56102)</td>\n",
       "    </tr>\n",
       "    <tr>\n",
       "      <th>3</th>\n",
       "      <td>ch14uvag00092992</td>\n",
       "      <td>8594239</td>\n",
       "      <td>Zürich, Schiffbau</td>\n",
       "      <td>None</td>\n",
       "      <td>None</td>\n",
       "      <td>2014-10-01T00:00:00</td>\n",
       "      <td>None</td>\n",
       "      <td>2017-12-12T00:00:00</td>\n",
       "      <td>2017-12-10T00:00:00</td>\n",
       "      <td>None</td>\n",
       "      <td>POINT (8.51977 47.38792)</td>\n",
       "    </tr>\n",
       "    <tr>\n",
       "      <th>4</th>\n",
       "      <td>ch14uvag00092591</td>\n",
       "      <td>8590020</td>\n",
       "      <td>Bern, Kursaal</td>\n",
       "      <td>None</td>\n",
       "      <td>None</td>\n",
       "      <td>2014-10-01T00:00:00</td>\n",
       "      <td>None</td>\n",
       "      <td>2017-12-12T00:00:00</td>\n",
       "      <td>2017-12-10T00:00:00</td>\n",
       "      <td>None</td>\n",
       "      <td>POINT (7.44961 46.95291)</td>\n",
       "    </tr>\n",
       "  </tbody>\n",
       "</table>\n",
       "</div>"
      ],
      "text/plain": [
       "             xtf_id  Betriebspunkt_Nummer Betriebspunkt_Name  \\\n",
       "0  ch14uvag00092584               8580567   Wabern, Eichholz   \n",
       "1  ch14uvag00092599               8590023     Bern, Sandrain   \n",
       "2  ch14uvag00092576               8588779  Basel, Rheingasse   \n",
       "3  ch14uvag00092992               8594239  Zürich, Schiffbau   \n",
       "4  ch14uvag00092591               8590020      Bern, Kursaal   \n",
       "\n",
       "  Betriebspunkt_Abkuerzung Betriebspunkt_DatenherrAbkuer    BeginnGueltigkeit  \\\n",
       "0                     None                          None  2014-10-01T00:00:00   \n",
       "1                     None                          None  2014-10-01T00:00:00   \n",
       "2                     None                          None  2014-10-01T00:00:00   \n",
       "3                     None                          None  2014-10-01T00:00:00   \n",
       "4                     None                          None  2014-10-01T00:00:00   \n",
       "\n",
       "  EndeGueltigkeit    BearbeitungsDatum                Stand rUebergeordnet  \\\n",
       "0            None  2017-12-12T00:00:00  2017-12-10T00:00:00           None   \n",
       "1            None  2017-12-12T00:00:00  2017-12-10T00:00:00           None   \n",
       "2            None  2017-12-12T00:00:00  2017-12-10T00:00:00           None   \n",
       "3            None  2017-12-12T00:00:00  2017-12-10T00:00:00           None   \n",
       "4            None  2017-12-12T00:00:00  2017-12-10T00:00:00           None   \n",
       "\n",
       "                   geometry  \n",
       "0  POINT (7.45160 46.92866)  \n",
       "1  POINT (7.44513 46.93168)  \n",
       "2  POINT (7.59164 47.56102)  \n",
       "3  POINT (8.51977 47.38792)  \n",
       "4  POINT (7.44961 46.95291)  "
      ]
     },
     "metadata": {},
     "output_type": "display_data"
    }
   ],
   "source": [
    "#create a list of layers with in a file geodatabase \n",
    "layerlist = fiona.listlayers('./Schienennetz_LV03_20171210.gdb')\n",
    "#print(layerlist)\n",
    "netzknoten = gpd.read_file('./Schienennetz_LV03_20171210.gdb',layer='Netzknoten')\n",
    "netzknoten = netzknoten.to_crs(epsg = 4326)\n",
    "display(netzknoten.head())\n",
    "netzsegment = gpd.read_file('./Schienennetz_LV03_20171210.gdb',layer='Netzsegment')\n",
    "#display(netzsegment.head())"
   ]
  },
  {
   "cell_type": "code",
   "execution_count": 94,
   "metadata": {},
   "outputs": [
    {
     "name": "stdout",
     "output_type": "stream",
     "text": [
      "Lowest degree in Network=  0\n",
      "Amount of Nodes in the Network 3190\n",
      "After removing zero degree nodes:\n",
      "Lowest degree in Network=  1\n",
      "Amount of Nodes in the Network 3186\n"
     ]
    }
   ],
   "source": [
    "G = nx.Graph()\n",
    "for index, row in netzknoten.iterrows():\n",
    "    G.add_node(row.xtf_id, geometry = row.geometry, name = row.Betriebspunkt_Name)\n",
    "    \n",
    "for index, row in netzsegment.iterrows():\n",
    "    G.add_edge(row.rAnfangsknoten, row.rEndknoten)\n",
    "\n",
    "degree_sequence = [d for n, d in G.degree()]\n",
    "print(\"Lowest degree in Network= \",min(degree_sequence))\n",
    "print(\"Amount of Nodes in the Network\",len(G.nodes()))\n",
    "\n",
    "#Remove nodes which are not connected to any other node (degree = 0)\n",
    "nodes = G.nodes()\n",
    "to_delete = []\n",
    "for n in nodes:\n",
    "    if G.degree(n) == 0:\n",
    "        to_delete.append(n)\n",
    "for n in to_delete:\n",
    "    \n",
    "    G.remove_node(n)\n",
    "\n",
    "degree_sequence = [d for n, d in G.degree()]\n",
    "print(\"After removing zero degree nodes:\")\n",
    "print(\"Lowest degree in Network= \",min(degree_sequence))\n",
    "print(\"Amount of Nodes in the Network\",len(G.nodes()))"
   ]
  },
  {
   "cell_type": "code",
   "execution_count": 95,
   "metadata": {},
   "outputs": [],
   "source": [
    "#Function to calculate the distance between two coordinate points\n",
    "def calculate_distance(x1,y1,x2,y2):\n",
    "    # approximate radius of earth in km\n",
    "    R = 6373.0\n",
    "    lon1 = radians(x1)\n",
    "    lat1 = radians(y1)\n",
    "       \n",
    "    lon2 = radians(x2)\n",
    "    lat2 = radians(y2)\n",
    "\n",
    "    dlon = lon2 - lon1\n",
    "    dlat = lat2 - lat1\n",
    "    \n",
    "    a = sin(dlat / 2)**2 + cos(lat1) * cos(lat2) * sin(dlon / 2)**2\n",
    "    c = 2 * atan2(sqrt(a), sqrt(1 - a))\n",
    "\n",
    "    distance = R * c\n",
    "    return distance\n",
    "    \n",
    "def merge_close_nodes(G, merge_distance):\n",
    "    temp = G.copy()\n",
    "    node_list = temp.nodes()\n",
    "    geometries = nx.get_node_attributes(G, \"geometry\")\n",
    "    names = nx.get_node_attributes(G, \"name\")\n",
    "    \n",
    "    for node1 in node_list:\n",
    "        if node1 in G.nodes():\n",
    "            close_list = []\n",
    "            edge_list = []\n",
    "            #node1_edges = G.edges(node1)    -> (node1, node2) not in node1_edges\n",
    "            for node2 in node_list:\n",
    "                if node2 in G.nodes():\n",
    "                    dist = calculate_distance(geometries[node1].x,geometries[node1].y, geometries[node2].x,geometries[node2].y)\n",
    "                    if node1 != node2 and dist <= merge_distance and not nx.has_path(G, node1, node2):\n",
    "                        close_list.append(node2)\n",
    "\n",
    "            for merge_node in close_list:\n",
    "                if G.has_node(merge_node):\n",
    "                    edges = G.edges(merge_node)\n",
    "                    for edge in edges:\n",
    "                        edge_list.append(edge[1])\n",
    "                    G.remove_node(merge_node)\n",
    "                    print(\"removed node: \", names[merge_node])\n",
    "            for to in edge_list:\n",
    "                G.add_edge(node1,to)\n",
    "                print(\"added edge from\" + names[node1] + \" to \" + names[to])\n",
    "   \n",
    "            \n",
    "    \n",
    "    \n",
    "    "
   ]
  },
  {
   "cell_type": "code",
   "execution_count": 96,
   "metadata": {},
   "outputs": [
    {
     "name": "stdout",
     "output_type": "stream",
     "text": [
      "removed node:  Zürich Altstetten\n",
      "removed node:  Zürich Altstetten Süd (Abzw)\n",
      "added edge fromZürich Altstetten, Bahnhof N to Zürich Altstetten Süd (Abzw)\n",
      "added edge fromZürich Altstetten, Bahnhof N to Einfang (Abzw)\n",
      "added edge fromZürich Altstetten, Bahnhof N to Urdorf\n",
      "added edge fromZürich Altstetten, Bahnhof N to Zürich Altstetten Ost (Abzw)\n",
      "added edge fromZürich Altstetten, Bahnhof N to Zürich Mülligen\n",
      "added edge fromZürich Altstetten, Bahnhof N to Zürich Herdern Abstellgruppe\n",
      "added edge fromZürich Altstetten, Bahnhof N to Zürich Hauptwerkstätte\n",
      "added edge fromZürich Altstetten, Bahnhof N to Zürich Altstetten Nord (Abzw)\n",
      "added edge fromZürich Altstetten, Bahnhof N to Zürich Vorbahnhof West\n",
      "removed node:  Bern\n",
      "added edge fromBern RBS to Bern JKLM\n",
      "added edge fromBern RBS to Bern Henkerbrünnli\n",
      "added edge fromBern RBS to Bern Weyermannshaus (Spw)\n",
      "added edge fromBern RBS to Bern Wyler\n",
      "removed node:  Basel Dreispitz\n",
      "removed node:  Ruchfeld\n",
      "added edge fromBasel, Dreispitz Kantonsgrenze to Basel SBB Ost (Abzw)\n",
      "added edge fromBasel, Dreispitz Kantonsgrenze to Ruchfeld\n",
      "added edge fromBasel, Dreispitz Kantonsgrenze to Münchenstein\n",
      "added edge fromBasel, Dreispitz Kantonsgrenze to Basel SBB GB VL\n",
      "removed node:  Interlaken Ost [Gleis 5-8]\n",
      "removed node:  Interlaken Ost [Gleis 1-2]\n",
      "added edge fromInterlaken Ost [Gleis 3-4] to Interlaken West\n",
      "added edge fromInterlaken Ost [Gleis 3-4] to Bönigen Werkstätte BLS\n",
      "added edge fromInterlaken Ost [Gleis 3-4] to Wilderswil\n",
      "removed node:  Göschenen\n",
      "added edge fromGöschenen Bahnhofplatz to Gotthard Nord (Spw)\n",
      "added edge fromGöschenen Bahnhofplatz to Eggwald (Spw)\n",
      "removed node:  Aarau WSB\n",
      "added edge fromAarau to Buchs AG\n",
      "added edge fromAarau to Binzenhof\n",
      "removed node:  Ins [Gleis 11]\n",
      "added edge fromIns to Ins Dorf\n",
      "removed node:  Solothurn [Gleis 21]\n",
      "added edge fromSolothurn to Solothurn Baseltor\n",
      "removed node:  Lausanne\n",
      "added edge fromLausanne, Gare to Lausanne Est\n",
      "added edge fromLausanne, Gare to Lausanne (bif)\n",
      "removed node:  La Chaux-de-Fonds\n",
      "removed node:  La Chaux-de-Fonds [voie 1]\n",
      "added edge fromLa Chaux-de-Fonds [voie 2] to La Chaux-de-Fonds Nord\n",
      "added edge fromLa Chaux-de-Fonds [voie 2] to Le Crêt-du-Locle\n",
      "added edge fromLa Chaux-de-Fonds [voie 2] to La Chaux-de-Fonds-Est\n",
      "removed node:  Zürich Rehalp\n",
      "added edge fromZürich, Rehalp to Waldburg\n",
      "removed node:  Grand-Lancy, Bachet-de-Pesay\n",
      "removed node:  Grand-Lancy, Bachet (bif sud)\n",
      "removed node:  Grand-Lancy, Bachet (bif nord)\n",
      "added edge fromCarouge-Bachet saut du Km to Grand-Lancy, Bachet (bif sud)\n",
      "added edge fromCarouge-Bachet saut du Km to Grand-Lancy, Bachet (bif nord)\n",
      "added edge fromCarouge-Bachet saut du Km to Grand-Lancy, Bachet (bif nord)\n",
      "added edge fromCarouge-Bachet saut du Km to Plan-les-Ouates, Trèfle-Blanc\n",
      "added edge fromCarouge-Bachet saut du Km to Carouge GE, De Staël\n",
      "removed node:  St-Triphon-Gare\n",
      "added edge fromSt-Triphon to Pont du Rhône\n",
      "added edge fromSt-Triphon to Villy\n",
      "removed node:  Rheineck [Gleis 0]\n",
      "added edge fromRheineck to Ruderbach\n",
      "removed node:  Zürich, Römerhof\n",
      "added edge fromZürich Hottingen (Spw) to Zürich, Titlisstrasse\n",
      "removed node:  Wohlen BDWM-bd\n",
      "added edge fromWohlen to Wohlen Oberdorf\n",
      "removed node:  Bex place de la gare\n",
      "added edge fromBex to La Ruaz\n",
      "removed node:  St. Gallen Betriebsgr. SGA/TB\n",
      "removed node:  St. Gallen AB\n",
      "added edge fromSt. Gallen to St. Gallen Riethüsli\n",
      "added edge fromSt. Gallen to St. Gallen Marktplatz\n",
      "removed node:  Montreux\n",
      "removed node:  Montreux-Collège\n",
      "removed node:  Montreux MOB\n",
      "added edge fromMontreux MVR-mtgn to Territet\n",
      "added edge fromMontreux MVR-mtgn to Clarens\n",
      "added edge fromMontreux MVR-mtgn to Vuarennes\n",
      "added edge fromMontreux MVR-mtgn to Montreux MOB\n",
      "removed node:  Morges [voie 5-6]\n",
      "added edge fromMorges to La Gottaz\n",
      "removed node:  Alpnachstad PB\n",
      "added edge fromAlpnachstad to Aemsigen\n",
      "removed node:  Locarno FART\n",
      "added edge fromLocarno (fine binario) to Locarno S. Antonio\n",
      "removed node:  Yverdon-les-Bains\n",
      "added edge fromYverdon-les-Bains TRAVYS to Grandson\n",
      "added edge fromYverdon-les-Bains TRAVYS to Yverdon Est (bif)\n",
      "removed node:  Zermatt\n",
      "added edge fromZermatt GGB to Kalter Boden\n",
      "removed node:  Capolago-Riva S. Vitale\n",
      "added edge fromCapolago-Riva S. Vitale MG to Maroggia-Melano\n",
      "added edge fromCapolago-Riva S. Vitale MG to Mendrisio S. Martino\n",
      "removed node:  Chur Arosabahn\n",
      "added edge fromChur [Gleis 10-14] to Chur Stadt\n",
      "removed node:  Wil\n",
      "added edge fromWil (FF-Wil Bahn) to Bronschhofen\n",
      "added edge fromWil (FF-Wil Bahn) to Sirnach\n",
      "added edge fromWil (FF-Wil Bahn) to Wil Süd (Abzw)\n",
      "removed node:  Lausanne-Flon (LEB)\n",
      "removed node:  Lausanne-Flon\n",
      "added edge fromLausanne-Flon (m2) to Lausanne-Flon\n",
      "added edge fromLausanne-Flon (m2) to Lausanne-Chauderon\n",
      "removed node:  Nyon\n",
      "removed node:  Nyon (bif)\n",
      "added edge fromNyon [gare souterraine] to Nyon (bif)\n",
      "added edge fromNyon [gare souterraine] to Prangins\n",
      "added edge fromNyon [gare souterraine] to Crans\n",
      "removed node:  Martigny [voie 40]\n",
      "added edge fromMartigny to La Bâtiaz\n",
      "removed node:  Arth-Goldau\n",
      "removed node:  Arth-Goldau Nordwest\n",
      "added edge fromArth-Goldau RB to Arth-Goldau Ost (Abzw)\n",
      "added edge fromArth-Goldau RB to Brunnmatt (Spw)\n",
      "added edge fromArth-Goldau RB to Goldau Mühlefluh (Verzw)\n",
      "added edge fromArth-Goldau RB to Arth-Goldau Ost (Abzw)\n",
      "removed node:  Brienz BRB\n",
      "added edge fromBrienz to Planalp\n",
      "removed node:  Lugano FLP\n",
      "added edge fromLugano to Sorengo\n",
      "removed node:  Liestal [Gleis 4]\n",
      "added edge fromLiestal to Altmarkt\n",
      "removed node:  Le Locle [voie 3]\n",
      "added edge fromLe Locle to Le Locle Le Chalet\n"
     ]
    }
   ],
   "source": [
    "merge_close_nodes(G, 0.3)\n"
   ]
  },
  {
   "cell_type": "code",
   "execution_count": 97,
   "metadata": {},
   "outputs": [
    {
     "name": "stdout",
     "output_type": "stream",
     "text": [
      "Lowest degree in Network=  1\n",
      "Amount of Nodes in the Network 3146\n"
     ]
    }
   ],
   "source": [
    "degree_sequence = [d for n, d in G.degree()]\n",
    "print(\"Lowest degree in Network= \",min(degree_sequence))\n",
    "print(\"Amount of Nodes in the Network\",len(G.nodes()))\n"
   ]
  },
  {
   "cell_type": "code",
   "execution_count": 98,
   "metadata": {},
   "outputs": [
    {
     "name": "stdout",
     "output_type": "stream",
     "text": [
      "average degree ⟨k⟩ = 2.130324221233312\n",
      "global clustering C= 0.01571711117165664\n",
      "assortativity= 0.14188871929561872\n",
      "number of connected components=  5\n",
      "Amount of nodes in the giant component:  3116\n",
      "Relative size of the giant component to the full network = 0.9904640813731723\n"
     ]
    }
   ],
   "source": [
    "#Some figures for the network: average degree <k>, global clustering coefficient C, assortativity etc.\n",
    "degree_sequence = [d for n, d in G.degree()]\n",
    "\n",
    "average_degree = sum(degree_sequence)/len(degree_sequence)\n",
    "print(\"average degree ⟨k⟩ =\",average_degree)\n",
    "\n",
    "C = sum(nx.clustering(G).values())/len(nx.clustering(G).values())\n",
    "print(\"global clustering C=\", C)\n",
    "\n",
    "assortativity = nx.degree_assortativity_coefficient(G)\n",
    "print(\"assortativity=\",assortativity)\n",
    "\n",
    "print(\"number of connected components= \", nx.number_connected_components(G))\n",
    "\n",
    "largest_cc = max(nx.connected_components(G), key=len)\n",
    "number_largest_cc = len(largest_cc) \n",
    "number_nodes = len(G.nodes())\n",
    "print(\"Amount of nodes in the giant component: \", number_largest_cc)\n",
    "print(\"Relative size of the giant component to the full network =\", number_largest_cc/number_nodes)"
   ]
  },
  {
   "cell_type": "code",
   "execution_count": 99,
   "metadata": {},
   "outputs": [
    {
     "name": "stdout",
     "output_type": "stream",
     "text": [
      "[0, 206, 2455, 390, 73, 16, 3, 1, 0, 1, 1]\n"
     ]
    },
    {
     "data": {
      "image/png": "[encoded data removed]",
      "text/plain": [
       "<Figure size 432x288 with 1 Axes>"
      ]
     },
     "metadata": {
      "needs_background": "light"
     },
     "output_type": "display_data"
    }
   ],
   "source": [
    "#Degree Distribution of the network\n",
    "hist = nx.degree_histogram(G)\n",
    "print(hist)\n",
    "plt.title(\"Degree Distribution\")\n",
    "plt.ylabel(\"Count\")\n",
    "plt.xlabel(\"Degree\")\n",
    "plt.hist(degree_sequence, bins = len(hist))\n",
    "                     \n",
    "plt.show()"
   ]
  },
  {
   "cell_type": "code",
   "execution_count": 143,
   "metadata": {},
   "outputs": [],
   "source": [
    "\n",
    "G2 = nx.Graph()\n",
    "\n",
    "for index, row in netzknoten.iterrows():\n",
    "    if row.xtf_id in G.nodes(): \n",
    "        G2.add_node(row.xtf_id, geometry = row.geometry, name = row.Betriebspunkt_Name)\n",
    "    \n",
    "for index, row in netzsegment.iterrows():\n",
    "    if (row.rAnfangsknoten, row.rEndknoten) in G.edges() or (row.rEndknoten,row.rAnfangsknoten) in G.edges():\n",
    "        \n",
    "        G2.add_edge(row.rAnfangsknoten, row.rEndknoten)\n"
   ]
  },
  {
   "cell_type": "code",
   "execution_count": 109,
   "metadata": {},
   "outputs": [
    {
     "name": "stdout",
     "output_type": "stream",
     "text": [
      "0.0031796502384737677\n",
      "0.02108746672126433\n",
      "0.4051446623379526\n",
      "0.413609534546098\n"
     ]
    }
   ],
   "source": [
    "#Centralities  (Do we need the correlations between them??)\n",
    "degree = sorted(nx.degree_centrality(G).values(), reverse =True)\n",
    "closeness = sorted(nx.closeness_centrality(G).values(), reverse =True)\n",
    "betweenness = sorted(nx.betweenness_centrality(G).values(), reverse =True)\n",
    "eigenvector = sorted(nx.eigenvector_centrality(G).values(), reverse =True)\n",
    "\n",
    "print(max(degree))\n",
    "print(max(closeness))\n",
    "print(max(betweenness))\n",
    "print(max(eigenvector))"
   ]
  },
  {
   "cell_type": "code",
   "execution_count": 169,
   "metadata": {},
   "outputs": [],
   "source": [
    "def random_attacks(G):\n",
    "    temp = G.copy()\n",
    "    connected_component_sizes = []\n",
    "    while nx.number_of_nodes(temp) > 1:\n",
    "        node_list = []\n",
    "        for n in temp.nodes():\n",
    "            node_list.append(n)\n",
    "        to_delete = random.choice(node_list)\n",
    "        temp.remove_node(to_delete)\n",
    "        \n",
    "        largest_cc = len(max(nx.connected_components(temp), key=len))\n",
    "        connected_component_sizes.append(largest_cc)\n",
    "        \n",
    "    plt.plot(range(len(connected_component_sizes)),connected_component_sizes)\n",
    "    plt.title(\"Random attacks\")\n",
    "    plt.ylabel(\"Size of Giant component\")\n",
    "    plt.xlabel(\"Number of removed Nodes\")\n",
    "    plt.show()\n",
    "       \n",
    "def targeted_attacks(G):\n",
    "    temp = G.copy()\n",
    "    connected_component_sizes = []\n",
    "    node_degrees = nx.degree_centrality(temp)\n",
    "    sorted_node_degrees = sorted(temp.nodes(), key=lambda n: node_degrees[n])\n",
    "    while nx.number_of_nodes(temp) > 1:\n",
    "        temp.remove_node(sorted_node_degrees.pop())\n",
    "        largest_cc = len(max(nx.connected_components(temp), key=len))\n",
    "        connected_component_sizes.append(largest_cc)\n",
    "    \n",
    "    plt.plot(range(len(connected_component_sizes)),connected_component_sizes)\n",
    "    plt.title(\"Targeted attacks\")\n",
    "    plt.ylabel(\"Size of Giant component\")\n",
    "    plt.xlabel(\"Number of removed Nodes\")\n",
    "    plt.show()"
   ]
  },
  {
   "cell_type": "code",
   "execution_count": 170,
   "metadata": {},
   "outputs": [
    {
     "data": {
      "image/png": "[encoded data removed]",
      "text/plain": [
       "<Figure size 432x288 with 1 Axes>"
      ]
     },
     "metadata": {
      "needs_background": "light"
     },
     "output_type": "display_data"
    },
    {
     "data": {
      "image/png": "[encoded data removed]",
      "text/plain": [
       "<Figure size 432x288 with 1 Axes>"
      ]
     },
     "metadata": {
      "needs_background": "light"
     },
     "output_type": "display_data"
    }
   ],
   "source": [
    "#Incluence of Random or targeted attacks on the remaining size of the Giant component\n",
    "\n",
    "#Here we could think about using other attack strategies and other dependent variables\n",
    "\n",
    "random_attacks(G2)\n",
    "targeted_attacks(G2)"
   ]
  },
  {
   "cell_type": "code",
   "execution_count": 165,
   "metadata": {},
   "outputs": [
    {
     "ename": "KeyError",
     "evalue": "222",
     "output_type": "error",
     "traceback": [
      "\u001b[1;31m---------------------------------------------------------------------------\u001b[0m",
      "\u001b[1;31mKeyError\u001b[0m                                  Traceback (most recent call last)",
      "\u001b[1;32m<ipython-input-165-dad6bb30f2a1>\u001b[0m in \u001b[0;36m<module>\u001b[1;34m\u001b[0m\n\u001b[0;32m      4\u001b[0m \u001b[1;31m#       print(names[n])\u001b[0m\u001b[1;33m\u001b[0m\u001b[1;33m\u001b[0m\u001b[1;33m\u001b[0m\u001b[0m\n\u001b[0;32m      5\u001b[0m \u001b[1;31m#   print(n)\u001b[0m\u001b[1;33m\u001b[0m\u001b[1;33m\u001b[0m\u001b[1;33m\u001b[0m\u001b[0m\n\u001b[1;32m----> 6\u001b[1;33m \u001b[0mprint\u001b[0m\u001b[1;33m(\u001b[0m\u001b[0mG\u001b[0m\u001b[1;33m.\u001b[0m\u001b[0mnodes\u001b[0m\u001b[1;33m(\u001b[0m\u001b[1;33m)\u001b[0m\u001b[1;33m[\u001b[0m\u001b[1;36m222\u001b[0m\u001b[1;33m]\u001b[0m\u001b[1;33m)\u001b[0m\u001b[1;33m\u001b[0m\u001b[1;33m\u001b[0m\u001b[0m\n\u001b[0m\u001b[0;32m      7\u001b[0m \u001b[0mprint\u001b[0m\u001b[1;33m(\u001b[0m\u001b[0mlist\u001b[0m\u001b[1;33m(\u001b[0m\u001b[0mG\u001b[0m\u001b[1;33m.\u001b[0m\u001b[0mnodes\u001b[0m\u001b[1;33m(\u001b[0m\u001b[1;33m)\u001b[0m\u001b[1;33m)\u001b[0m\u001b[1;33m)\u001b[0m\u001b[1;33m\u001b[0m\u001b[1;33m\u001b[0m\u001b[0m\n",
      "\u001b[1;32m~\\Anaconda3\\lib\\site-packages\\networkx\\classes\\reportviews.py\u001b[0m in \u001b[0;36m__getitem__\u001b[1;34m(self, n)\u001b[0m\n\u001b[0;32m    176\u001b[0m \u001b[1;33m\u001b[0m\u001b[0m\n\u001b[0;32m    177\u001b[0m     \u001b[1;32mdef\u001b[0m \u001b[0m__getitem__\u001b[0m\u001b[1;33m(\u001b[0m\u001b[0mself\u001b[0m\u001b[1;33m,\u001b[0m \u001b[0mn\u001b[0m\u001b[1;33m)\u001b[0m\u001b[1;33m:\u001b[0m\u001b[1;33m\u001b[0m\u001b[1;33m\u001b[0m\u001b[0m\n\u001b[1;32m--> 178\u001b[1;33m         \u001b[1;32mreturn\u001b[0m \u001b[0mself\u001b[0m\u001b[1;33m.\u001b[0m\u001b[0m_nodes\u001b[0m\u001b[1;33m[\u001b[0m\u001b[0mn\u001b[0m\u001b[1;33m]\u001b[0m\u001b[1;33m\u001b[0m\u001b[1;33m\u001b[0m\u001b[0m\n\u001b[0m\u001b[0;32m    179\u001b[0m \u001b[1;33m\u001b[0m\u001b[0m\n\u001b[0;32m    180\u001b[0m     \u001b[1;31m# Set methods\u001b[0m\u001b[1;33m\u001b[0m\u001b[1;33m\u001b[0m\u001b[1;33m\u001b[0m\u001b[0m\n",
      "\u001b[1;31mKeyError\u001b[0m: 222"
     ]
    }
   ],
   "source": [
    " a = [\"ch14uvag00090163\", \"ch14uvag00089804\",\"ch14uvag00093119\", \"ch14uvag00093120\", \"ch14uvag00066100\", \"ch14uvag00165821\",\"ch14uvag00089645\"]\n",
    "#for n in G.nodes:\n",
    "#    if n not in a:\n",
    " #       print(names[n])\n",
    " #   print(n)\n",
    "print(G.nodes())\n",
    "print(list(G.nodes()))"
   ]
  }
 ],
 "metadata": {
  "kernelspec": {
   "display_name": "'Python Interactive'",
   "language": "python",
   "name": "31ac89d4-01bf-4ad9-95cb-703f5b230bce"
  },
  "language_info": {
   "codemirror_mode": {
    "name": "ipython",
    "version": 3
   },
   "file_extension": ".py",
   "mimetype": "text/x-python",
   "name": "python",
   "nbconvert_exporter": "python",
   "pygments_lexer": "ipython3",
   "version": "3.7.3"
  }
 },
 "nbformat": 4,
 "nbformat_minor": 2
}
